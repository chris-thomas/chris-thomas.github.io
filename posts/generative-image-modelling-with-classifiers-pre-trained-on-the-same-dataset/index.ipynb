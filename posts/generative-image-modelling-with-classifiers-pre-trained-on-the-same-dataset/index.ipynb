{
 "cells": [
  {
   "cell_type": "raw",
   "id": "4505f1b5",
   "metadata": {},
   "source": [
    "---\n",
    "title: \"Generative image modelling with classifiers pre-trained on the same dataset\"\n",
    "author: \"Christopher Thomas BSc Hons. MIAP\"\n",
    "date: \"2023-04-02\"\n",
    "draft: true\n",
    "---"
   ]
  },
  {
   "cell_type": "markdown",
   "id": "c31c38ac",
   "metadata": {},
   "source": [
    "# Generative image modelling with classifiers pre-trained on the same dataset"
   ]
  },
  {
   "cell_type": "code",
   "execution_count": 2,
   "id": "b87e46ed",
   "metadata": {},
   "outputs": [],
   "source": [
    "#Work in progress"
   ]
  },
  {
   "cell_type": "code",
   "execution_count": null,
   "id": "a1f9f9a7",
   "metadata": {},
   "outputs": [],
   "source": []
  },
  {
   "cell_type": "code",
   "execution_count": null,
   "id": "ce718452",
   "metadata": {},
   "outputs": [],
   "source": []
  }
 ],
 "metadata": {
  "kernelspec": {
   "display_name": "Python 3 (ipykernel)",
   "language": "python",
   "name": "python3"
  },
  "language_info": {
   "codemirror_mode": {
    "name": "ipython",
    "version": 3
   },
   "file_extension": ".py",
   "mimetype": "text/x-python",
   "name": "python",
   "nbconvert_exporter": "python",
   "pygments_lexer": "ipython3",
   "version": "3.10.8"
  }
 },
 "nbformat": 4,
 "nbformat_minor": 5
}
